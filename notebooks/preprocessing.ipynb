{
 "cells": [
  {
   "cell_type": "code",
   "execution_count": 101,
   "metadata": {},
   "outputs": [],
   "source": [
    "import sys\n",
    "sys.path.insert(1, '/Users/dabiyyu/Downloads/mlprocess/src')\n",
    "import util as utils\n",
    "import pandas as pd"
   ]
  },
  {
   "cell_type": "code",
   "execution_count": 102,
   "metadata": {},
   "outputs": [],
   "source": [
    "config = utils.load_config()"
   ]
  },
  {
   "cell_type": "markdown",
   "metadata": {},
   "source": [
    "# Load Dataset"
   ]
  },
  {
   "cell_type": "code",
   "execution_count": 103,
   "metadata": {},
   "outputs": [],
   "source": [
    "def load_dataset(config_data: dict) -> pd.DataFrame:\n",
    "    # Load every set of data\n",
    "    X_train = utils.pickle_load(config_data[\"train_set_path\"][0])\n",
    "    y_train = utils.pickle_load(config_data[\"train_set_path\"][1])\n",
    "\n",
    "    X_valid = utils.pickle_load(config_data[\"valid_set_path\"][0])\n",
    "    y_valid = utils.pickle_load(config_data[\"valid_set_path\"][1])\n",
    "\n",
    "    X_test = utils.pickle_load(config_data[\"test_set_path\"][0])\n",
    "    y_test = utils.pickle_load(config_data[\"test_set_path\"][1])\n",
    "\n",
    "    # Concatenate x and y each set\n",
    "    train_set = pd.concat([X_train, y_train], axis = 1)\n",
    "    valid_set = pd.concat([X_valid, y_valid], axis = 1)\n",
    "    test_set = pd.concat([X_test, y_test], axis = 1)\n",
    "    \n",
    "    # Return 3 set of data\n",
    "    return train_set, valid_set, test_set"
   ]
  },
  {
   "cell_type": "code",
   "execution_count": 104,
   "metadata": {},
   "outputs": [],
   "source": [
    "train_set, valid_set, test_set = load_dataset(config)"
   ]
  },
  {
   "cell_type": "markdown",
   "metadata": {},
   "source": [
    "# Removing Outlier"
   ]
  },
  {
   "cell_type": "code",
   "execution_count": 105,
   "metadata": {},
   "outputs": [],
   "source": [
    "def remove_outliers(set_data):\n",
    "    set_data = set_data.copy()\n",
    "    list_of_set_data = list()\n",
    "\n",
    "    for col_name in set_data.columns[:-1]:\n",
    "        q1 = set_data[col_name].quantile(0.25)\n",
    "        q3 = set_data[col_name].quantile(0.75)\n",
    "        iqr = q3 - q1\n",
    "        set_data_cleaned = set_data[~((set_data[col_name] < (q1 - 1.5 * iqr)) | (set_data[col_name] > (q3 + 1.5 * iqr)))].copy()\n",
    "        list_of_set_data.append(set_data_cleaned.copy())\n",
    "    \n",
    "    set_data_cleaned = pd.concat(list_of_set_data)\n",
    "    count_duplicated_index = set_data_cleaned.index.value_counts()\n",
    "    used_index_data = count_duplicated_index[count_duplicated_index == (set_data.shape[1]-1)].index\n",
    "    set_data_cleaned = set_data_cleaned.loc[used_index_data].drop_duplicates()\n",
    "\n",
    "    return set_data_cleaned"
   ]
  },
  {
   "cell_type": "code",
   "execution_count": 106,
   "metadata": {},
   "outputs": [],
   "source": [
    "train_set_cleaned = remove_outliers(train_set)"
   ]
  },
  {
   "cell_type": "code",
   "execution_count": 107,
   "metadata": {},
   "outputs": [
    {
     "data": {
      "text/html": [
       "<div>\n",
       "<style scoped>\n",
       "    .dataframe tbody tr th:only-of-type {\n",
       "        vertical-align: middle;\n",
       "    }\n",
       "\n",
       "    .dataframe tbody tr th {\n",
       "        vertical-align: top;\n",
       "    }\n",
       "\n",
       "    .dataframe thead th {\n",
       "        text-align: right;\n",
       "    }\n",
       "</style>\n",
       "<table border=\"1\" class=\"dataframe\">\n",
       "  <thead>\n",
       "    <tr style=\"text-align: right;\">\n",
       "      <th></th>\n",
       "      <th>AT</th>\n",
       "      <th>V</th>\n",
       "      <th>AP</th>\n",
       "      <th>RH</th>\n",
       "      <th>PE</th>\n",
       "    </tr>\n",
       "  </thead>\n",
       "  <tbody>\n",
       "    <tr>\n",
       "      <th>8759</th>\n",
       "      <td>16.69</td>\n",
       "      <td>44.78</td>\n",
       "      <td>1010.41</td>\n",
       "      <td>58.18</td>\n",
       "      <td>456.17</td>\n",
       "    </tr>\n",
       "    <tr>\n",
       "      <th>9516</th>\n",
       "      <td>27.35</td>\n",
       "      <td>77.95</td>\n",
       "      <td>1017.43</td>\n",
       "      <td>73.36</td>\n",
       "      <td>437.61</td>\n",
       "    </tr>\n",
       "    <tr>\n",
       "      <th>4259</th>\n",
       "      <td>27.81</td>\n",
       "      <td>66.51</td>\n",
       "      <td>1016.11</td>\n",
       "      <td>48.48</td>\n",
       "      <td>439.48</td>\n",
       "    </tr>\n",
       "    <tr>\n",
       "      <th>8660</th>\n",
       "      <td>18.89</td>\n",
       "      <td>63.09</td>\n",
       "      <td>1018.47</td>\n",
       "      <td>84.85</td>\n",
       "      <td>450.00</td>\n",
       "    </tr>\n",
       "    <tr>\n",
       "      <th>5901</th>\n",
       "      <td>28.32</td>\n",
       "      <td>71.64</td>\n",
       "      <td>1004.73</td>\n",
       "      <td>72.71</td>\n",
       "      <td>436.31</td>\n",
       "    </tr>\n",
       "    <tr>\n",
       "      <th>...</th>\n",
       "      <td>...</td>\n",
       "      <td>...</td>\n",
       "      <td>...</td>\n",
       "      <td>...</td>\n",
       "      <td>...</td>\n",
       "    </tr>\n",
       "    <tr>\n",
       "      <th>2596</th>\n",
       "      <td>21.82</td>\n",
       "      <td>50.66</td>\n",
       "      <td>1013.74</td>\n",
       "      <td>73.60</td>\n",
       "      <td>455.20</td>\n",
       "    </tr>\n",
       "    <tr>\n",
       "      <th>4663</th>\n",
       "      <td>28.18</td>\n",
       "      <td>49.30</td>\n",
       "      <td>1003.97</td>\n",
       "      <td>55.56</td>\n",
       "      <td>438.91</td>\n",
       "    </tr>\n",
       "    <tr>\n",
       "      <th>3258</th>\n",
       "      <td>7.62</td>\n",
       "      <td>44.71</td>\n",
       "      <td>1020.56</td>\n",
       "      <td>69.96</td>\n",
       "      <td>486.07</td>\n",
       "    </tr>\n",
       "    <tr>\n",
       "      <th>1873</th>\n",
       "      <td>23.76</td>\n",
       "      <td>58.41</td>\n",
       "      <td>1013.85</td>\n",
       "      <td>85.38</td>\n",
       "      <td>445.85</td>\n",
       "    </tr>\n",
       "    <tr>\n",
       "      <th>5781</th>\n",
       "      <td>20.26</td>\n",
       "      <td>50.32</td>\n",
       "      <td>1009.81</td>\n",
       "      <td>93.12</td>\n",
       "      <td>448.40</td>\n",
       "    </tr>\n",
       "  </tbody>\n",
       "</table>\n",
       "<p>6608 rows × 5 columns</p>\n",
       "</div>"
      ],
      "text/plain": [
       "         AT      V       AP     RH      PE\n",
       "8759  16.69  44.78  1010.41  58.18  456.17\n",
       "9516  27.35  77.95  1017.43  73.36  437.61\n",
       "4259  27.81  66.51  1016.11  48.48  439.48\n",
       "8660  18.89  63.09  1018.47  84.85  450.00\n",
       "5901  28.32  71.64  1004.73  72.71  436.31\n",
       "...     ...    ...      ...    ...     ...\n",
       "2596  21.82  50.66  1013.74  73.60  455.20\n",
       "4663  28.18  49.30  1003.97  55.56  438.91\n",
       "3258   7.62  44.71  1020.56  69.96  486.07\n",
       "1873  23.76  58.41  1013.85  85.38  445.85\n",
       "5781  20.26  50.32  1009.81  93.12  448.40\n",
       "\n",
       "[6608 rows x 5 columns]"
      ]
     },
     "execution_count": 107,
     "metadata": {},
     "output_type": "execute_result"
    }
   ],
   "source": [
    "train_set_cleaned"
   ]
  },
  {
   "cell_type": "code",
   "execution_count": 108,
   "metadata": {},
   "outputs": [],
   "source": [
    "utils.pickle_dump(train_set_cleaned[config[\"predictors\"]], config[\"train_feng_set_path\"][0])\n",
    "utils.pickle_dump(train_set_cleaned[config[\"label\"]], config[\"train_feng_set_path\"][1])\n",
    "\n",
    "utils.pickle_dump(valid_set[config[\"predictors\"]], config[\"valid_feng_set_path\"][0])\n",
    "utils.pickle_dump(valid_set[config[\"label\"]], config[\"valid_feng_set_path\"][1])\n",
    "\n",
    "utils.pickle_dump(test_set[config[\"predictors\"]], config[\"test_feng_set_path\"][0])\n",
    "utils.pickle_dump(test_set[config[\"label\"]], config[\"test_feng_set_path\"][1])"
   ]
  },
  {
   "cell_type": "code",
   "execution_count": null,
   "metadata": {},
   "outputs": [],
   "source": []
  }
 ],
 "metadata": {
  "kernelspec": {
   "display_name": "Python 3.9.10 ('mlprocess_venv': venv)",
   "language": "python",
   "name": "python3"
  },
  "language_info": {
   "codemirror_mode": {
    "name": "ipython",
    "version": 3
   },
   "file_extension": ".py",
   "mimetype": "text/x-python",
   "name": "python",
   "nbconvert_exporter": "python",
   "pygments_lexer": "ipython3",
   "version": "3.9.10"
  },
  "orig_nbformat": 4,
  "vscode": {
   "interpreter": {
    "hash": "ba8794a59307e94413eb497b4fb72cdd0de370279ac8358f1f9b810bfd76c405"
   }
  }
 },
 "nbformat": 4,
 "nbformat_minor": 2
}
